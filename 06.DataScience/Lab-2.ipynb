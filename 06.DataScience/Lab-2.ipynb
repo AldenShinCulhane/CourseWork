{
 "cells": [
  {
   "cell_type": "code",
   "execution_count": 2,
   "id": "df5b3453-db4f-4307-ba6c-cbb03e122ace",
   "metadata": {},
   "outputs": [
    {
     "name": "stdout",
     "output_type": "stream",
     "text": [
      "Welcome to DataScience\n"
     ]
    }
   ],
   "source": [
    "print(\"Welcome to DataScience\")"
   ]
  }
 ],
 "metadata": {
  "kernelspec": {
   "display_name": "Python [conda env:base] *",
   "language": "python",
   "name": "conda-base-py"
  },
  "language_info": {
   "codemirror_mode": {
    "name": "ipython",
    "version": 3
   },
   "file_extension": ".py",
   "mimetype": "text/x-python",
   "name": "python",
   "nbconvert_exporter": "python",
   "pygments_lexer": "ipython3",
   "version": "3.12.7"
  }
 },
 "nbformat": 4,
 "nbformat_minor": 5
}
