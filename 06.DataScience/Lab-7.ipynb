{
 "cells": [
  {
   "cell_type": "code",
   "execution_count": 4,
   "id": "6c7f9de7-d7b1-4d3b-a118-4dc9b9058924",
   "metadata": {},
   "outputs": [
    {
     "name": "stderr",
     "output_type": "stream",
     "text": [
      "C:\\Users\\ihsan\\anaconda3\\Lib\\site-packages\\sklearn\\neural_network\\_multilayer_perceptron.py:690: ConvergenceWarning: Stochastic Optimizer: Maximum iterations (500) reached and the optimization hasn't converged yet.\n",
      "  warnings.warn(\n"
     ]
    },
    {
     "name": "stdout",
     "output_type": "stream",
     "text": [
      "=== SVM Results ===\n",
      "Linear Kernel Accuracy: 61.67%\n",
      "Gaussian Kernel Accuracy: 58.33%\n",
      "Sigmoid Kernel Accuracy: 58.33%\n",
      "\n",
      "=== ANN Results ===\n",
      "SGD Optimizer Accuracy: 61.67%\n",
      "Adam Optimizer Accuracy: 58.33%\n"
     ]
    },
    {
     "name": "stderr",
     "output_type": "stream",
     "text": [
      "C:\\Users\\ihsan\\anaconda3\\Lib\\site-packages\\sklearn\\neural_network\\_multilayer_perceptron.py:690: ConvergenceWarning: Stochastic Optimizer: Maximum iterations (500) reached and the optimization hasn't converged yet.\n",
      "  warnings.warn(\n"
     ]
    }
   ],
   "source": [
    "import pandas as pd\n",
    "import numpy as np\n",
    "from sklearn.model_selection import train_test_split\n",
    "from sklearn.preprocessing import StandardScaler\n",
    "from sklearn.svm import SVC\n",
    "from sklearn.neural_network import MLPClassifier\n",
    "from sklearn.metrics import accuracy_score\n",
    "\n",
    "# Load dataset\n",
    "file_path = \"heart-disease-dataset1.csv\"  # Ensure this file is in the same directory\n",
    "df = pd.read_csv(file_path)\n",
    "\n",
    "# Handle missing values\n",
    "df.replace('?', np.nan, inplace=True)\n",
    "df.dropna(inplace=True)\n",
    "\n",
    "# Convert data to numeric\n",
    "df = df.apply(pd.to_numeric)\n",
    "\n",
    "# Separate features and target variable\n",
    "X = df.iloc[:, :-1].values  # Features (all except last column)\n",
    "y = df.iloc[:, -1].values   # Target variable (last column)\n",
    "\n",
    "# Split into train and test sets (80% train, 20% test)\n",
    "X_train, X_test, y_train, y_test = train_test_split(X, y, test_size=0.2, random_state=42, stratify=y)\n",
    "\n",
    "# Normalize features\n",
    "scaler = StandardScaler()\n",
    "X_train = scaler.fit_transform(X_train)\n",
    "X_test = scaler.transform(X_test)\n",
    "\n",
    "# Train SVM with different kernels\n",
    "svm_models = {\n",
    "    \"Linear\": SVC(kernel=\"linear\"),\n",
    "    \"Gaussian\": SVC(kernel=\"rbf\"),\n",
    "    \"Sigmoid\": SVC(kernel=\"sigmoid\")\n",
    "}\n",
    "\n",
    "svm_results = {}\n",
    "for name, model in svm_models.items():\n",
    "    model.fit(X_train, y_train)\n",
    "    y_pred = model.predict(X_test)\n",
    "    accuracy = accuracy_score(y_test, y_pred)\n",
    "    svm_results[name] = accuracy\n",
    "\n",
    "# Train ANN with different optimizers\n",
    "ann_models = {\n",
    "    \"SGD\": MLPClassifier(hidden_layer_sizes=(100,), max_iter=500, solver=\"sgd\", random_state=42),\n",
    "    \"Adam\": MLPClassifier(hidden_layer_sizes=(100,), max_iter=500, solver=\"adam\", random_state=42)\n",
    "}\n",
    "\n",
    "ann_results = {}\n",
    "for name, model in ann_models.items():\n",
    "    model.fit(X_train, y_train)\n",
    "    y_pred = model.predict(X_test)\n",
    "    accuracy = accuracy_score(y_test, y_pred)\n",
    "    ann_results[name] = accuracy\n",
    "\n",
    "# Print results\n",
    "print(\"=== SVM Results ===\")\n",
    "for key, value in svm_results.items():\n",
    "    print(f\"{key} Kernel Accuracy: {value:.2%}\")\n",
    "\n",
    "print(\"\\n=== ANN Results ===\")\n",
    "for key, value in ann_results.items():\n",
    "    print(f\"{key} Optimizer Accuracy: {value:.2%}\")\n"
   ]
  },
  {
   "cell_type": "code",
   "execution_count": null,
   "id": "ef12f671-9dff-42c5-9ed2-7c7e55dc0545",
   "metadata": {},
   "outputs": [],
   "source": []
  }
 ],
 "metadata": {
  "kernelspec": {
   "display_name": "Python [conda env:base] *",
   "language": "python",
   "name": "conda-base-py"
  },
  "language_info": {
   "codemirror_mode": {
    "name": "ipython",
    "version": 3
   },
   "file_extension": ".py",
   "mimetype": "text/x-python",
   "name": "python",
   "nbconvert_exporter": "python",
   "pygments_lexer": "ipython3",
   "version": "3.12.7"
  }
 },
 "nbformat": 4,
 "nbformat_minor": 5
}
